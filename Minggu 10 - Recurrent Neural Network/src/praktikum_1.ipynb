{
  "cells": [
    {
      "cell_type": "markdown",
      "metadata": {
        "id": "iJnnInuZFH4L"
      },
      "source": [
        "### Praktikum 1\n",
        "\n",
        "#### Nama: Azis Ilham Kurniawan\n",
        "\n",
        "#### NIM: 2141720145\n",
        "\n",
        "#### Kelas: TI - 3F"
      ]
    },
    {
      "cell_type": "code",
      "execution_count": 1,
      "metadata": {
        "vscode": {
          "languageId": "plaintext"
        },
        "id": "EtCz2ctUFH4N"
      },
      "outputs": [],
      "source": [
        "import numpy as np # Membantu dalam manipulasi data numerik, seperti array, matriks, dan operasi matematika\n",
        "import tensorflow_datasets as tfds # Menyediakan berbagai dataset yang siap digunakan\n",
        "import tensorflow as tf # Menyediakan berbagai fungsi dan kelas untuk membangun, melatih, dan menjalankan model machine learning\n",
        "\n",
        "tfds.disable_progress_bar() # Menonaktifkan progress bar dari TensorFlow Datasets"
      ]
    },
    {
      "cell_type": "code",
      "source": [
        "import matplotlib.pyplot as plt # Berguna dalam memvisualisasikan data\n",
        "\n",
        "def plot_graphs(history, metric):\n",
        "    plt.plot(history.history[metric]) # Menampilkan kurva loss atau akurasi model\n",
        "    plt.plot(history.history['val_'+metric], '') # Menampilkan  kurva loss atau akurasi validasi\n",
        "    plt.xlabel(\"Epochs\") # Memberi label pada sisi horizontal\n",
        "    plt.ylabel(metric) # Memberi label pada sisi vertikal\n",
        "    plt.legend([metric, 'val_'+metric]) # Menambahkan daftar label"
      ],
      "metadata": {
        "id": "a8nRxMllFbps"
      },
      "execution_count": 2,
      "outputs": []
    },
    {
      "cell_type": "markdown",
      "source": [
        "Setup input pipeline"
      ],
      "metadata": {
        "id": "WN1sgu1LFhoK"
      }
    },
    {
      "cell_type": "code",
      "source": [
        "dataset, info = tfds.load('imdb_reviews', with_info=True, as_supervised=True) # Memuat data supervised dengan dataset berupa imdb_review\n",
        "train_dataset, test_dataset = dataset['train'], dataset['test'] # Membagi dataset menjadi data uji dan data latih\n",
        "\n",
        "train_dataset.element_spec # Mendapatkan struktur data dari elemen-elemen dalam dataset"
      ],
      "metadata": {
        "colab": {
          "base_uri": "https://localhost:8080/"
        },
        "id": "YvsJnrUcFchC",
        "outputId": "5b302049-a5c4-4a44-f93a-768a2f106b39"
      },
      "execution_count": 3,
      "outputs": [
        {
          "output_type": "stream",
          "name": "stdout",
          "text": [
            "Downloading and preparing dataset 80.23 MiB (download: 80.23 MiB, generated: Unknown size, total: 80.23 MiB) to /root/tensorflow_datasets/imdb_reviews/plain_text/1.0.0...\n",
            "Dataset imdb_reviews downloaded and prepared to /root/tensorflow_datasets/imdb_reviews/plain_text/1.0.0. Subsequent calls will reuse this data.\n"
          ]
        },
        {
          "output_type": "execute_result",
          "data": {
            "text/plain": [
              "(TensorSpec(shape=(), dtype=tf.string, name=None),\n",
              " TensorSpec(shape=(), dtype=tf.int64, name=None))"
            ]
          },
          "metadata": {},
          "execution_count": 3
        }
      ]
    },
    {
      "cell_type": "code",
      "source": [
        "for example, label in train_dataset.take(1): # Perulangan berdasarkan pembagian train_dataset.take(1) menjadi example dan label\n",
        "    print('text: ', example.numpy()) # Menampilkan data contoh teks\n",
        "    print('label: ', label.numpy()) # Menampilkan label"
      ],
      "metadata": {
        "colab": {
          "base_uri": "https://localhost:8080/"
        },
        "id": "R2WwEKoRFlaD",
        "outputId": "bb3357bb-5612-4422-8303-6db13e851dd4"
      },
      "execution_count": 4,
      "outputs": [
        {
          "output_type": "stream",
          "name": "stdout",
          "text": [
            "text:  b\"This was an absolutely terrible movie. Don't be lured in by Christopher Walken or Michael Ironside. Both are great actors, but this must simply be their worst role in history. Even their great acting could not redeem this movie's ridiculous storyline. This movie is an early nineties US propaganda piece. The most pathetic scenes were those when the Columbian rebels were making their cases for revolutions. Maria Conchita Alonso appeared phony, and her pseudo-love affair with Walken was nothing but a pathetic emotional plug in a movie that was devoid of any real meaning. I am disappointed that there are movies like this, ruining actor's like Christopher Walken's good name. I could barely sit through it.\"\n",
            "label:  0\n"
          ]
        }
      ]
    },
    {
      "cell_type": "code",
      "source": [
        "BUFFER_SIZE = 10000 # Inisialisasi variabel BUFFER_SIZE\n",
        "BATCH_SIZE = 64 # Inisialisasi variabel BATCH_SIZE\n",
        "\n",
        "train_dataset = train_dataset.shuffle(BUFFER_SIZE).batch(BATCH_SIZE).prefetch(tf.data.AUTOTUNE) # Mempersiapkan train_dataset dengan melakukan pengacakan dan mengatur batch untuk mencegah overfitting serta prefetch untuk mengurangi waktu memuat data\n",
        "test_dataset = test_dataset.batch(BATCH_SIZE).prefetch(tf.data.AUTOTUNE) # Mempersiapkan test_dataset dengan melakukan pengacakan dan mengatur batch untuk mencegah overfitting serta prefetch untuk mengurangi waktu memuat data\n",
        "\n",
        "for example, label in train_dataset.take(1): # Perulangan berdasarkan pembagian train_dataset.take(1) menjadi example dan label\n",
        "    print('texts: ', example.numpy()[:3]) # Menampilkan 3 data contoh teks\n",
        "    print()\n",
        "    print('labels: ', label.numpy()[:3]) # Menampilkan 3 label"
      ],
      "metadata": {
        "colab": {
          "base_uri": "https://localhost:8080/"
        },
        "id": "NfU16aacHK9k",
        "outputId": "550fd62f-2c42-43ed-a66c-dd33a483ba99"
      },
      "execution_count": 5,
      "outputs": [
        {
          "output_type": "stream",
          "name": "stdout",
          "text": [
            "texts:  [b\"Please see also my comment on Die Nibelungen part 1: Siegfried.<br /><br />The second part of UFA studio's gargantuan production of the Nibelungen saga continues in the stylised, symphonic and emotionally detached manner of its predecessor. However, whereas part one was a passionless portrayal of individual acts of heroism, part two is a chaotic depiction of bloodletting on a grand scale.<br /><br />As in part one, director Fritz Lang maintains a continuous dynamic rhythm, with the pace of the action and the complexity of the shot composition rising and falling smoothly as the tone of each scene demands. These pictures should only be watched with the note-perfect Gottfried Huppertz score, which fortunately is on the Kino DVD. Now, with this focus on mass action, Lang is presented with greater challenges in staging. The action sequences in his earliest features were often badly constructed, but now he simply makes them part of that rhythmic flow, with the level of activity on the screen swelling up like an orchestra.<br /><br />But just as part one made us witness Siegfried's adventures matter-of-factly and without excitement, part two presents warfare as devastating tragedy. In both pictures, there is a deliberate lack of emotional connection with the characters. That's why Lang mostly keeps the camera outside of the action, never allowing us to feel as if we are there (and this is significant because involving the audience is normally a distinction of Lang's work). That's also why the performances are unnaturally theatrical, with the actors lurching around like constipated sleepwalkers.<br /><br />Nevertheless, Kriemhild's revenge does constantly deal with emotions, and is in fact profoundly humanist. The one moment of naturalism is when Atilla holds his baby son for the first time, and Lang actually emphasises the tenderness of this scene by building up to it with the wild, frantic ride of the huns. The point is that Lang never manipulates us into taking sides, and in that respect this version has more in common with the original saga than the Wagner opera. The climactic slaughter is the very antithesis of a rousing battle scene. Why then did Hitler and co. get so teary-eyed over it, a fact which has unfairly tarnished the reputation of these films? Because the unwavering racial ideology of the Nazis made them automatically view the Nibelungs as the good guys, even if they do kill babies and betray their own kin. For Hitler, their downfall would always be a nationalist tragedy, not a human one.<br /><br />But for us non-nazi viewers, what makes this picture enjoyable is its beautiful sense of pageantry and musical rhythm. When you see these fully-developed silent pictures of Lang's, it makes you realise how much he was wasted in Hollywood. Rather than saddling him with low-budget potboilers, they should have put him to work on a few of those sword-and-sandal epics, pictures that do not have to be believable and do not have to move us emotionally, where it's the poetic, operatic tonality that sweeps us along.\"\n",
            " b\"This so called remake is terrible. I went to see this tonight.. on the first day as the anticipation and hype was too much for me to handle. But within the first half an hour, we knew that this is a disaster. It not only does not match the hype created but also insults the original blockbuster. The script had loopholes, the editing was untidy quite a few times. Mohanlal who is an excellent actor did an okay job. Amitabh was alright.. the director wanted to portray how evil his character is but he went a bit overboard which resulted in it being forceful. Ajay who is especially smooth in these kind of roles was also a disappointment. Lets not even get started about the new guy Prashant.. one wouldn't be proud to start off a career with something like this. Rajpal Yadav who was thrown in for a few laughs couldn't even get a smile out of anyone because of his forceful humor and the shrill voice. Nisha Kothari proved that she is one of the worst actresses we have today. All in all, RGV who I thought was one of the most talented and gifted directors India has had.. failed miserably. He took up such a huge challenge and responsibility to remake what is known as the best Hindi movie ever and made a mess out of it.\"\n",
            " b'After eight Moto films the series had run its course, as this last entry demonstrates. Peter Lorre was clearly weary of trying to pump some sort of human interest and entertainment value into the wispy character of Moto, and the dreadful idea of pairing him with a \"funny\" British sidekick utterly defeats all his efforts here.']\n",
            "\n",
            "labels:  [1 0 0]\n"
          ]
        }
      ]
    },
    {
      "cell_type": "code",
      "source": [
        "VOCAB_SIZE = 1000 # Inisialisasi variabel VOCAB_SIZE\n",
        "encoder = tf.keras.layers.TextVectorization(max_tokens=VOCAB_SIZE) # Mengubah text menjadi nilai numerik dengan maksimal token sebanyak VOCAB_SIZE\n",
        "encoder.adapt(train_dataset.map(lambda text, label: text)) # Menyesuaikan encoder dengan train_dataset"
      ],
      "metadata": {
        "id": "76PkHKqoHMww"
      },
      "execution_count": 6,
      "outputs": []
    },
    {
      "cell_type": "code",
      "source": [
        "vocab = np.array(encoder.get_vocabulary()) # Memperoleh vocabulary yang telah dipelajari encoder dari train_dataset\n",
        "vocab[:20] # Menampilkan 20 data variabel vocab"
      ],
      "metadata": {
        "colab": {
          "base_uri": "https://localhost:8080/"
        },
        "id": "T5-C5TPcHTJR",
        "outputId": "47c30e3f-fe7c-4fba-b01f-f282fc2e8222"
      },
      "execution_count": 7,
      "outputs": [
        {
          "output_type": "execute_result",
          "data": {
            "text/plain": [
              "array(['', '[UNK]', 'the', 'and', 'a', 'of', 'to', 'is', 'in', 'it', 'i',\n",
              "       'this', 'that', 'br', 'was', 'as', 'for', 'with', 'movie', 'but'],\n",
              "      dtype='<U14')"
            ]
          },
          "metadata": {},
          "execution_count": 7
        }
      ]
    },
    {
      "cell_type": "code",
      "source": [
        "encoded_example = encoder(example)[:3].numpy() # Merubah data teks menjadi numerik dengan encoder dan mengambil 3 data\n",
        "encoded_example # Menampilkan array encoded_example"
      ],
      "metadata": {
        "colab": {
          "base_uri": "https://localhost:8080/"
        },
        "id": "3i8IR-q_HXC8",
        "outputId": "520fef92-85bd-4a82-d598-953f89f0e64f"
      },
      "execution_count": 8,
      "outputs": [
        {
          "output_type": "execute_result",
          "data": {
            "text/plain": [
              "array([[583,  68,  79, ...,   0,   0,   0],\n",
              "       [ 11,  38, 483, ...,   0,   0,   0],\n",
              "       [101,   1,   1, ...,   0,   0,   0]])"
            ]
          },
          "metadata": {},
          "execution_count": 8
        }
      ]
    },
    {
      "cell_type": "code",
      "source": [
        "for n in range(3): # Melakukan 3 kali perulangan\n",
        "    print(\"Original: \", example[n].numpy()) # Menampilkan nilai example pada indeks n\n",
        "    print(\"Round-trip: \", \" \".join(vocab[encoded_example[n]])) # Menampilkan data list encode_example pada indeks n yang sudah digabungkan\n",
        "    print()\n",
        "\n",
        "# UNK => Unknown"
      ],
      "metadata": {
        "colab": {
          "base_uri": "https://localhost:8080/"
        },
        "id": "3kds4UKlHa3f",
        "outputId": "7d0af9a7-6218-4976-b531-053751c161ec"
      },
      "execution_count": 9,
      "outputs": [
        {
          "output_type": "stream",
          "name": "stdout",
          "text": [
            "Original:  b\"Please see also my comment on Die Nibelungen part 1: Siegfried.<br /><br />The second part of UFA studio's gargantuan production of the Nibelungen saga continues in the stylised, symphonic and emotionally detached manner of its predecessor. However, whereas part one was a passionless portrayal of individual acts of heroism, part two is a chaotic depiction of bloodletting on a grand scale.<br /><br />As in part one, director Fritz Lang maintains a continuous dynamic rhythm, with the pace of the action and the complexity of the shot composition rising and falling smoothly as the tone of each scene demands. These pictures should only be watched with the note-perfect Gottfried Huppertz score, which fortunately is on the Kino DVD. Now, with this focus on mass action, Lang is presented with greater challenges in staging. The action sequences in his earliest features were often badly constructed, but now he simply makes them part of that rhythmic flow, with the level of activity on the screen swelling up like an orchestra.<br /><br />But just as part one made us witness Siegfried's adventures matter-of-factly and without excitement, part two presents warfare as devastating tragedy. In both pictures, there is a deliberate lack of emotional connection with the characters. That's why Lang mostly keeps the camera outside of the action, never allowing us to feel as if we are there (and this is significant because involving the audience is normally a distinction of Lang's work). That's also why the performances are unnaturally theatrical, with the actors lurching around like constipated sleepwalkers.<br /><br />Nevertheless, Kriemhild's revenge does constantly deal with emotions, and is in fact profoundly humanist. The one moment of naturalism is when Atilla holds his baby son for the first time, and Lang actually emphasises the tenderness of this scene by building up to it with the wild, frantic ride of the huns. The point is that Lang never manipulates us into taking sides, and in that respect this version has more in common with the original saga than the Wagner opera. The climactic slaughter is the very antithesis of a rousing battle scene. Why then did Hitler and co. get so teary-eyed over it, a fact which has unfairly tarnished the reputation of these films? Because the unwavering racial ideology of the Nazis made them automatically view the Nibelungs as the good guys, even if they do kill babies and betray their own kin. For Hitler, their downfall would always be a nationalist tragedy, not a human one.<br /><br />But for us non-nazi viewers, what makes this picture enjoyable is its beautiful sense of pageantry and musical rhythm. When you see these fully-developed silent pictures of Lang's, it makes you realise how much he was wasted in Hollywood. Rather than saddling him with low-budget potboilers, they should have put him to work on a few of those sword-and-sandal epics, pictures that do not have to be believable and do not have to move us emotionally, where it's the poetic, operatic tonality that sweeps us along.\"\n",
            "Round-trip:  please see also my comment on die [UNK] part 1 [UNK] br the second part of [UNK] [UNK] [UNK] production of the [UNK] [UNK] [UNK] in the [UNK] [UNK] and [UNK] [UNK] [UNK] of its [UNK] however [UNK] part one was a [UNK] [UNK] of [UNK] [UNK] of [UNK] part two is a [UNK] [UNK] of [UNK] on a [UNK] [UNK] br as in part one director [UNK] [UNK] [UNK] a [UNK] [UNK] [UNK] with the [UNK] of the action and the [UNK] of the shot [UNK] [UNK] and [UNK] [UNK] as the [UNK] of each scene [UNK] these [UNK] should only be watched with the [UNK] [UNK] [UNK] score which [UNK] is on the [UNK] dvd now with this [UNK] on [UNK] action [UNK] is [UNK] with [UNK] [UNK] in [UNK] the action sequences in his [UNK] features were often badly [UNK] but now he simply makes them part of that [UNK] [UNK] with the level of [UNK] on the screen [UNK] up like an [UNK] br but just as part one made us [UNK] [UNK] [UNK] [UNK] and without [UNK] part two [UNK] [UNK] as [UNK] [UNK] in both [UNK] there is a [UNK] lack of emotional [UNK] with the characters thats why [UNK] mostly keeps the camera outside of the action never [UNK] us to feel as if we are there and this is [UNK] because [UNK] the audience is [UNK] a [UNK] of [UNK] work thats also why the performances are [UNK] [UNK] with the actors [UNK] around like [UNK] [UNK] br [UNK] [UNK] [UNK] does [UNK] deal with [UNK] and is in fact [UNK] [UNK] the one moment of [UNK] is when [UNK] [UNK] his baby son for the first time and [UNK] actually [UNK] the [UNK] of this scene by [UNK] up to it with the [UNK] [UNK] [UNK] of the [UNK] the point is that [UNK] never [UNK] us into taking [UNK] and in that [UNK] this version has more in [UNK] with the original [UNK] than the [UNK] [UNK] the [UNK] [UNK] is the very [UNK] of a [UNK] battle scene why then did [UNK] and [UNK] get so [UNK] over it a fact which has [UNK] [UNK] the [UNK] of these films because the [UNK] [UNK] [UNK] of the [UNK] made them [UNK] view the [UNK] as the good guys even if they do kill [UNK] and [UNK] their own [UNK] for [UNK] their [UNK] would always be a [UNK] [UNK] not a human [UNK] br but for us [UNK] viewers what makes this picture enjoyable is its beautiful sense of [UNK] and musical [UNK] when you see these [UNK] [UNK] [UNK] of [UNK] it makes you [UNK] how much he was [UNK] in hollywood rather than [UNK] him with [UNK] [UNK] they should have put him to work on a few of those [UNK] [UNK] [UNK] that do not have to be believable and do not have to move us [UNK] where its the [UNK] [UNK] [UNK] that [UNK] us along                                                                                                                                                                                                                                                                                                                                                                                                                                                                                                               \n",
            "\n",
            "Original:  b\"This so called remake is terrible. I went to see this tonight.. on the first day as the anticipation and hype was too much for me to handle. But within the first half an hour, we knew that this is a disaster. It not only does not match the hype created but also insults the original blockbuster. The script had loopholes, the editing was untidy quite a few times. Mohanlal who is an excellent actor did an okay job. Amitabh was alright.. the director wanted to portray how evil his character is but he went a bit overboard which resulted in it being forceful. Ajay who is especially smooth in these kind of roles was also a disappointment. Lets not even get started about the new guy Prashant.. one wouldn't be proud to start off a career with something like this. Rajpal Yadav who was thrown in for a few laughs couldn't even get a smile out of anyone because of his forceful humor and the shrill voice. Nisha Kothari proved that she is one of the worst actresses we have today. All in all, RGV who I thought was one of the most talented and gifted directors India has had.. failed miserably. He took up such a huge challenge and responsibility to remake what is known as the best Hindi movie ever and made a mess out of it.\"\n",
            "Round-trip:  this so called remake is terrible i went to see this [UNK] on the first day as the [UNK] and [UNK] was too much for me to [UNK] but within the first half an hour we knew that this is a [UNK] it not only does not [UNK] the [UNK] [UNK] but also [UNK] the original [UNK] the script had [UNK] the editing was [UNK] quite a few times [UNK] who is an excellent actor did an okay job [UNK] was [UNK] the director wanted to [UNK] how evil his character is but he went a bit [UNK] which [UNK] in it being [UNK] [UNK] who is especially [UNK] in these kind of roles was also a [UNK] lets not even get started about the new guy [UNK] one wouldnt be [UNK] to start off a career with something like this [UNK] [UNK] who was [UNK] in for a few laughs couldnt even get a [UNK] out of anyone because of his [UNK] humor and the [UNK] voice [UNK] [UNK] [UNK] that she is one of the worst [UNK] we have today all in all [UNK] who i thought was one of the most [UNK] and [UNK] directors [UNK] has had [UNK] [UNK] he took up such a huge [UNK] and [UNK] to remake what is known as the best [UNK] movie ever and made a mess out of it                                                                                                                                                                                                                                                                                                                                                                                                                                                                                                                                                                                                                                                                                                                                                                                              \n",
            "\n",
            "Original:  b'After eight Moto films the series had run its course, as this last entry demonstrates. Peter Lorre was clearly weary of trying to pump some sort of human interest and entertainment value into the wispy character of Moto, and the dreadful idea of pairing him with a \"funny\" British sidekick utterly defeats all his efforts here.'\n",
            "Round-trip:  after [UNK] [UNK] films the series had run its course as this last [UNK] [UNK] peter [UNK] was clearly [UNK] of trying to [UNK] some sort of human interest and entertainment [UNK] into the [UNK] character of [UNK] and the [UNK] idea of [UNK] him with a funny british [UNK] [UNK] [UNK] all his [UNK] here                                                                                                                                                                                                                                                                                                                                                                                                                                                                                                                                                                                                                                                                                                                                                                                                                                                                                                                                                                            \n",
            "\n"
          ]
        }
      ]
    },
    {
      "cell_type": "markdown",
      "source": [
        "Membuat Model"
      ],
      "metadata": {
        "id": "GxtAUStFHmeC"
      }
    },
    {
      "cell_type": "code",
      "source": [
        "model = tf.keras.Sequential([ # Membual model Sequential\n",
        "    encoder, # Variabel encoder sebelumnya sebagai parameter\n",
        "    tf.keras.layers.Embedding( # Membuat embeded layer\n",
        "        input_dim=len(encoder.get_vocabulary()), # Jumlah token dalam vocabulary\n",
        "        output_dim=64, # Banyak fitur yang mewakili token\n",
        "        mask_zero=True), # Mengabaikan token dengan indeks 0\n",
        "    tf.keras.layers.Bidirectional(tf.keras.layers.LSTM(64)), # Membuat layer bidirectional dengan layer LTSM 64 unit\n",
        "    tf.keras.layers.Dense(64, activation='relu'), # Menambhakan layer Dense (Fully-Connected) dengan 64 neuron dan fungsi aktivasi berupa ReLU\n",
        "    tf.keras.layers.Dense(1) # Menambhakan layer Dense (Fully-Connected) dengan 1 neuron\n",
        "])"
      ],
      "metadata": {
        "id": "1Gr9o5y1HeLC"
      },
      "execution_count": 10,
      "outputs": []
    },
    {
      "cell_type": "code",
      "source": [
        "print([layer.supports_masking for layer in model.layers]) # Menampilkan daftar boolean apakah model mendukung masking"
      ],
      "metadata": {
        "colab": {
          "base_uri": "https://localhost:8080/"
        },
        "id": "n59S5BFCHsFz",
        "outputId": "67cb7f74-ebeb-4f64-b787-26f042dec6e5"
      },
      "execution_count": 11,
      "outputs": [
        {
          "output_type": "stream",
          "name": "stdout",
          "text": [
            "[False, True, True, True, True]\n"
          ]
        }
      ]
    },
    {
      "cell_type": "code",
      "source": [
        "# predict on a sample text without padding.\n",
        "\n",
        "sample_text = ('The movie was cool. The animation and the graphics '\n",
        "               'were out of this world. I would recommend this movie.') # Inisialisasi variabel sample_text\n",
        "predictions = model.predict(np.array([sample_text])) # Melakukan prediksi nilai berdasarkan sample_text yang dirubah ke array numpy\n",
        "print(predictions[0]) # Menampilkan nilai prediksi pertama"
      ],
      "metadata": {
        "colab": {
          "base_uri": "https://localhost:8080/"
        },
        "id": "jMd_0fElHuFi",
        "outputId": "275283a7-e5dd-4a9d-df56-e11c105af06d"
      },
      "execution_count": 12,
      "outputs": [
        {
          "output_type": "stream",
          "name": "stdout",
          "text": [
            "1/1 [==============================] - 3s 3s/step\n",
            "[-0.00677277]\n"
          ]
        }
      ]
    },
    {
      "cell_type": "code",
      "source": [
        "# predict on a sample text with padding\n",
        "\n",
        "padding = \"the \" * 2000 # Membuat variabel padding\n",
        "predictions = model.predict(np.array([sample_text, padding])) # Melakukan prediksi nilai berdasarkan sample_text dan padding yang dirubah ke array numpy\n",
        "print(predictions[0]) # Menampilkan nilai prediksi pertama"
      ],
      "metadata": {
        "colab": {
          "base_uri": "https://localhost:8080/"
        },
        "id": "4lmXiz0GHyQ8",
        "outputId": "0a3ad75b-d829-4f24-930b-e8be1e2857b9"
      },
      "execution_count": 13,
      "outputs": [
        {
          "output_type": "stream",
          "name": "stdout",
          "text": [
            "1/1 [==============================] - 0s 353ms/step\n",
            "[-0.00677277]\n"
          ]
        }
      ]
    },
    {
      "cell_type": "code",
      "source": [
        "model.compile(loss=tf.keras.losses.BinaryCrossentropy(from_logits=True), # Compile Model dengan argument loss berdasarkan BinaryCrossentropy dengan output logits (nilai numerik yang mewakili kemungkinan kelas 1 dan 0)\n",
        "              optimizer=tf.keras.optimizers.Adam(1e-4), # Menggunakan optimizer ADAM dengan learning rate 1e-4\n",
        "              metrics=['accuracy']) # Dan argument metrics dengan accuracy"
      ],
      "metadata": {
        "id": "hv06iq0aH1ek"
      },
      "execution_count": 14,
      "outputs": []
    },
    {
      "cell_type": "markdown",
      "source": [
        "Training Model"
      ],
      "metadata": {
        "id": "2jA3x_jYH6Pg"
      }
    },
    {
      "cell_type": "code",
      "source": [
        "history = model.fit(train_dataset, epochs=10, validation_data=test_dataset, validation_steps=30) # Melatih model dengan train_dataset dan 10 epoch serta 30 sampel validasi"
      ],
      "metadata": {
        "colab": {
          "base_uri": "https://localhost:8080/"
        },
        "id": "RY30P0AgH4OJ",
        "outputId": "3b9eae9a-28b8-417d-bef8-25e4d1c053d9"
      },
      "execution_count": 15,
      "outputs": [
        {
          "output_type": "stream",
          "name": "stdout",
          "text": [
            "Epoch 1/10\n",
            "391/391 [==============================] - 738s 2s/step - loss: 0.6468 - accuracy: 0.5714 - val_loss: 0.5061 - val_accuracy: 0.7318\n",
            "Epoch 2/10\n",
            "391/391 [==============================] - 758s 2s/step - loss: 0.4086 - accuracy: 0.8090 - val_loss: 0.3658 - val_accuracy: 0.8281\n",
            "Epoch 3/10\n",
            "391/391 [==============================] - 719s 2s/step - loss: 0.3402 - accuracy: 0.8498 - val_loss: 0.3491 - val_accuracy: 0.8474\n",
            "Epoch 4/10\n",
            "391/391 [==============================] - 716s 2s/step - loss: 0.3237 - accuracy: 0.8606 - val_loss: 0.3311 - val_accuracy: 0.8604\n",
            "Epoch 5/10\n",
            "391/391 [==============================] - 717s 2s/step - loss: 0.3188 - accuracy: 0.8631 - val_loss: 0.3274 - val_accuracy: 0.8469\n",
            "Epoch 6/10\n",
            "391/391 [==============================] - 730s 2s/step - loss: 0.3092 - accuracy: 0.8670 - val_loss: 0.3267 - val_accuracy: 0.8583\n",
            "Epoch 7/10\n",
            "391/391 [==============================] - 720s 2s/step - loss: 0.3059 - accuracy: 0.8678 - val_loss: 0.3263 - val_accuracy: 0.8594\n",
            "Epoch 8/10\n",
            "391/391 [==============================] - 732s 2s/step - loss: 0.3026 - accuracy: 0.8702 - val_loss: 0.3219 - val_accuracy: 0.8578\n",
            "Epoch 9/10\n",
            "391/391 [==============================] - 743s 2s/step - loss: 0.2993 - accuracy: 0.8710 - val_loss: 0.3250 - val_accuracy: 0.8469\n",
            "Epoch 10/10\n",
            "391/391 [==============================] - 739s 2s/step - loss: 0.3010 - accuracy: 0.8705 - val_loss: 0.3272 - val_accuracy: 0.8589\n"
          ]
        }
      ]
    },
    {
      "cell_type": "code",
      "source": [
        "test_loss, test_acc = model.evaluate(test_dataset) # Menyimpan nilai loss dan accuracy hasil dari evaluasi model dengan test_dataset\n",
        "\n",
        "print('Test Loss:', test_loss) # Menampilkan nilai variabel test_loss\n",
        "print('Test Accuracy:', test_acc) # Menampilkan nilai variabel test_acc"
      ],
      "metadata": {
        "colab": {
          "base_uri": "https://localhost:8080/"
        },
        "id": "KrktOGoWIC69",
        "outputId": "e4068cb1-d556-44c6-8c1b-e76711a1c56c"
      },
      "execution_count": 16,
      "outputs": [
        {
          "output_type": "stream",
          "name": "stdout",
          "text": [
            "391/391 [==============================] - 173s 443ms/step - loss: 0.3239 - accuracy: 0.8640\n",
            "Test Loss: 0.3239358067512512\n",
            "Test Accuracy: 0.8639600276947021\n"
          ]
        }
      ]
    },
    {
      "cell_type": "code",
      "source": [
        "plt.figure(figsize=(16, 8)) # Membuat figure dengan ukuran 16 x 8\n",
        "plt.subplot(1, 2, 1) # membuat subplot dengan 1 baris dan 2 kolom, dan subplot ini akan ditempatkan di indeks 1\n",
        "plot_graphs(history, 'accuracy') # memplot grafik akurasi dari objek History\n",
        "plt.ylim(None, 1) # mengatur batas y dari grafik akurasi agar dimulai dari 0 dan berakhir di 1\n",
        "plt.subplot(1, 2, 2) # membuat subplot dengan 1 baris dan 2 kolom, dan subplot ini akan ditempatkan di indeks 2\n",
        "plot_graphs(history, 'loss') # memplot grafik loss dari objek History\n",
        "plt.ylim(0, None) #  mengatur batas y dari grafik loss agar dimulai dari 0"
      ],
      "metadata": {
        "colab": {
          "base_uri": "https://localhost:8080/",
          "height": 635
        },
        "id": "g-NYWUouND_F",
        "outputId": "d995ab01-2af8-4add-e8aa-2e413435fc26"
      },
      "execution_count": 17,
      "outputs": [
        {
          "output_type": "execute_result",
          "data": {
            "text/plain": [
              "(0.0, 0.664126318693161)"
            ]
          },
          "metadata": {},
          "execution_count": 17
        },
        {
          "output_type": "display_data",
          "data": {
            "text/plain": [
              "<Figure size 1600x800 with 2 Axes>"
            ],
            "image/png": "[encoded data removed]"
          },
          "metadata": {}
        }
      ]
    },
    {
      "cell_type": "code",
      "source": [
        "sample_text = ('The movie was cool. The animation and the graphics '\n",
        "               'were out of this world. I would recommend this movie.') # Inisialisasi variabel sample_text\n",
        "\n",
        "predictions = model.predict(np.array([sample_text])) # Melakukan prediksi nilai berdasarkan sample_text yang dirubah ke array numpy"
      ],
      "metadata": {
        "colab": {
          "base_uri": "https://localhost:8080/"
        },
        "id": "NEroEBKONG3u",
        "outputId": "d8b74ea6-6c88-4a9c-9e47-e3be0f396718"
      },
      "execution_count": 18,
      "outputs": [
        {
          "output_type": "stream",
          "name": "stdout",
          "text": [
            "1/1 [==============================] - 3s 3s/step\n"
          ]
        }
      ]
    },
    {
      "cell_type": "code",
      "source": [
        "model = tf.keras.Sequential([ # Membual model Sequential\n",
        "    encoder, # Variabel encoder sebelumnya sebagai parameter\n",
        "    tf.keras.layers.Embedding(len(encoder.get_vocabulary()), 64, mask_zero=True), # Membuat embeded layer dengan jumlah token dalam vocabulary dan 64 banyak fitur yang mewakili token serta Mengabaikan token dengan indeks 0\n",
        "    tf.keras.layers.Bidirectional(tf.keras.layers.LSTM(64, return_sequences=True)), # Membuat layer bidirectional dengan layer LTSM 64 unit dan mengembalikan seluruh urutan output\n",
        "    tf.keras.layers.Bidirectional(tf.keras.layers.LSTM(32)), # # Membuat layer bidirectional dengan layer LTSM 32 unit\n",
        "    tf.keras.layers.Dense(64, activation='relu'), # Menambhakan layer Dense (Fully-Connected) dengan 64 neuron dan fungsi aktivasi berupa ReLU\n",
        "    tf.keras.layers.Dropout(0.5), # enonaktifkan 50% dari unit di lapisan sebelumnya secara acak pada setiap iterasi pelatihan\n",
        "    tf.keras.layers.Dense(1) # Menambhakan layer Dense (Fully-Connected) dengan 1 neuron\n",
        "])"
      ],
      "metadata": {
        "id": "BZBofZ3KNJz3"
      },
      "execution_count": 19,
      "outputs": []
    },
    {
      "cell_type": "code",
      "source": [
        "model.compile(loss=tf.keras.losses.BinaryCrossentropy(from_logits=True), # Compile Model dengan argument loss berdasarkan BinaryCrossentropy dengan output logits (nilai numerik yang mewakili kemungkinan kelas 1 dan 0)\n",
        "            optimizer=tf.keras.optimizers.Adam(1e-4), # Menggunakan optimizer ADAM dengan learning rate 1e-4\n",
        "            metrics=['accuracy']) # Dan argument metrics dengan accuracy"
      ],
      "metadata": {
        "id": "EnHn1-2MNL3X"
      },
      "execution_count": 20,
      "outputs": []
    },
    {
      "cell_type": "code",
      "source": [
        "history = model.fit(train_dataset, epochs=10,\n",
        "                    validation_data=test_dataset,\n",
        "                    validation_steps=30) # Melatih model dengan train_dataset dan 10 epoch serta 30 sampel validasi"
      ],
      "metadata": {
        "colab": {
          "base_uri": "https://localhost:8080/"
        },
        "id": "Cr2JOze0NOCk",
        "outputId": "b7c321eb-1e30-4269-93f4-ef65857e564f"
      },
      "execution_count": null,
      "outputs": [
        {
          "output_type": "stream",
          "name": "stdout",
          "text": [
            "Epoch 1/10\n",
            "391/391 [==============================] - 1510s 4s/step - loss: 0.6394 - accuracy: 0.5752 - val_loss: 0.4377 - val_accuracy: 0.7964\n",
            "Epoch 2/10\n",
            " 74/391 [====>.........................] - ETA: 18:38 - loss: 0.4271 - accuracy: 0.8036"
          ]
        }
      ]
    },
    {
      "cell_type": "code",
      "source": [
        "test_loss, test_acc = model.evaluate(test_dataset) # Menyimpan nilai loss dan accuracy hasil dari evaluasi model dengan test_dataset\n",
        "\n",
        "print('Test Loss:', test_loss) # Menampilkan nilai variabel test_loss\n",
        "print('Test Accuracy:', test_acc) # Menampilkan nilai variabel test_acc"
      ],
      "metadata": {
        "id": "NLjyzGl6NRYd"
      },
      "execution_count": null,
      "outputs": []
    },
    {
      "cell_type": "code",
      "source": [
        "# predict on a sample text without padding.\n",
        "\n",
        "sample_text = ('The movie was not good. The animation and the graphics '\n",
        "                'were terrible. I would not recommend this movie.') # Inisialisasi variabel sample_text\n",
        "\n",
        "predictions = model.predict(np.array([sample_text])) # Melakukan prediksi nilai berdasarkan sample_text yang dirubah ke array numpy\n",
        "print(predictions) # Menampilkan nilai prediksi"
      ],
      "metadata": {
        "id": "Cu0OmJ71NTZP"
      },
      "execution_count": null,
      "outputs": []
    },
    {
      "cell_type": "code",
      "source": [
        "plt.figure(figsize=(16, 6)) # Membuat figure dengan ukuran 16 x 6\n",
        "plt.subplot(1, 2, 1) # membuat subplot dengan 1 baris dan 2 kolom, dan subplot ini akan ditempatkan di indeks 1\n",
        "plot_graphs(history, 'accuracy') # memplot grafik akurasi dari objek History\n",
        "plt.subplot(1, 2, 2) # membuat subplot dengan 1 baris dan 2 kolom, dan subplot ini akan ditempatkan di indeks 2\n",
        "plot_graphs(history, 'loss') # memplot grafik loss dari objek History"
      ],
      "metadata": {
        "id": "KRutpCO3NVTg"
      },
      "execution_count": null,
      "outputs": []
    }
  ],
  "metadata": {
    "language_info": {
      "name": "python"
    },
    "colab": {
      "provenance": []
    },
    "kernelspec": {
      "name": "python3",
      "display_name": "Python 3"
    }
  },
  "nbformat": 4,
  "nbformat_minor": 0
}