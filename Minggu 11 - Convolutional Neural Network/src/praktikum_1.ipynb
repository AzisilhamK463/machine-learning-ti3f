{
  "cells": [
    {
      "cell_type": "markdown",
      "metadata": {
        "id": "vdPbi4edYXW-"
      },
      "source": [
        "### Praktikum 1\n",
        "\n",
        "#### Nama: Azis Ilham Kurniawan\n",
        "\n",
        "#### NIM: 2141720145\n",
        "\n",
        "#### Kelas: TI - 3F"
      ]
    },
    {
      "cell_type": "code",
      "execution_count": 1,
      "metadata": {
        "id": "wKGfSW1xYXXB",
        "outputId": "a4bda941-1621-42db-9f94-0393c7395095",
        "colab": {
          "base_uri": "https://localhost:8080/"
        }
      },
      "outputs": [
        {
          "output_type": "stream",
          "name": "stdout",
          "text": [
            "Mounted at /content/drive\n"
          ]
        }
      ],
      "source": [
        "from google.colab import drive # Digunakan untuk mengakses Google Drive dari Google Colab\n",
        "drive.mount('/content/drive') # Menghubungkan Google Drive ke sesi Google Colab"
      ]
    },
    {
      "cell_type": "code",
      "source": [
        "import tensorflow as tf # Library yang mendukung dalam pembelajaran mesin\n",
        "from keras.preprocessing.image import ImageDataGenerator # Digunakan untuk melakukan augmentasi dan prapemrosesan gambar untuk pelatihan model"
      ],
      "metadata": {
        "id": "N9jPpnfKZ8Rw"
      },
      "execution_count": 2,
      "outputs": []
    },
    {
      "cell_type": "code",
      "source": [
        "train_datagen = ImageDataGenerator(rescale = 1./255, # Membuat objek ImageDataGenerator dengan normalisasi nilai pixel citra antara 0 samapi 1\n",
        "                                   shear_range = 0.2, # Menentukan bahwa citra akan digeser secara acak sebesar 0,2 - 0,8 kali lebar atau tinggi gambar (membantu model untuk belajar dari citra yang diputar)\n",
        "                                   zoom_range = 0.2, # Menentukan bahwa citra akan diperbesar atau diperkecil secara acak sebesar 0,8 - 1,2 kali (membantu model untuk belajar dari gambar yang diperbesar atau diperkecil)\n",
        "                                   horizontal_flip = True) # Menentukan bahwa gambar akan dibalik secara horizontal secara acak (membantu model untuk belajar dari gambar yang dibalik)\n",
        "\n",
        "training_set = train_datagen.flow_from_directory('/content/drive/MyDrive/Machine_Learning_2023/week_11/dataset/training_set', # Membuat generator data dari direktori yang berisi gambar pelatihan\n",
        "                                                 target_size = (64, 64), # Setiap citra akan menjadi ukuran 64 x 64 pixel\n",
        "                                                 batch_size = 32, # Mengembalikan batch yang berisi 32 citra\n",
        "                                                 class_mode = 'binary') # Mengembalikan label berupa 2 kelas gambar saja"
      ],
      "metadata": {
        "id": "4Ib1RHC2aA7b",
        "outputId": "c3f8198e-1927-4cda-9888-0ecf91d5b7d7",
        "colab": {
          "base_uri": "https://localhost:8080/"
        }
      },
      "execution_count": 3,
      "outputs": [
        {
          "output_type": "stream",
          "name": "stdout",
          "text": [
            "Found 1638 images belonging to 2 classes.\n"
          ]
        }
      ]
    },
    {
      "cell_type": "code",
      "source": [
        "test_datagen = ImageDataGenerator(rescale = 1./255) # Membuat objek ImageDataGenerator dengan normalisasi nilai pixel citra antara 0 samapi 1\n",
        "\n",
        "test_set = test_datagen.flow_from_directory('/content/drive/MyDrive/Machine_Learning_2023/week_11/dataset/test_set', # membuat generator data dari direktori yang berisi gambar uji\n",
        "                                            target_size = (64, 64), # Setiap citra akan menjadi ukuran 64 x 64 pixel\n",
        "                                            batch_size = 32, # Mengembalikan batch yang berisi 32 citra\n",
        "                                            class_mode = 'binary') # Mengembalikan label berupa 2 kelas gambar saja"
      ],
      "metadata": {
        "id": "MoaVzFAitOcC",
        "outputId": "58cb325a-403e-47d8-b047-48ccb3c30069",
        "colab": {
          "base_uri": "https://localhost:8080/"
        }
      },
      "execution_count": 4,
      "outputs": [
        {
          "output_type": "stream",
          "name": "stdout",
          "text": [
            "Found 2000 images belonging to 2 classes.\n"
          ]
        }
      ]
    },
    {
      "cell_type": "markdown",
      "source": [
        "Pembuatan Model CNN"
      ],
      "metadata": {
        "id": "NvtZ6kuwtnB4"
      }
    },
    {
      "cell_type": "code",
      "source": [
        "cnn = tf.keras.models.Sequential() # Membuat model Sequential"
      ],
      "metadata": {
        "id": "5z5jCL5atTK2"
      },
      "execution_count": 5,
      "outputs": []
    },
    {
      "cell_type": "code",
      "source": [
        "cnn.add(tf.keras.layers.Conv2D(filters=32, kernel_size=3, activation='relu', input_shape=[64, 64, 3]))"
      ],
      "metadata": {
        "id": "kzRvyetHtr_d"
      },
      "execution_count": 6,
      "outputs": []
    },
    {
      "cell_type": "code",
      "source": [
        "cnn.add(tf.keras.layers.MaxPool2D(pool_size=2, strides=2))"
      ],
      "metadata": {
        "id": "ToYXrcqatwFt"
      },
      "execution_count": 7,
      "outputs": []
    },
    {
      "cell_type": "code",
      "source": [
        "cnn.add(tf.keras.layers.Conv2D(filters=32, kernel_size=3, activation='relu')) # Menambahkan layer convolutional 2D ke model dengan 32 filter dengan ukuran kernel 3 x 3 dan fungsi aktivasi berupa ReLU\n",
        "cnn.add(tf.keras.layers.MaxPool2D(pool_size=2, strides=2))  # Menambahkan lapisan pooling 2D ke model dengan tipe Max dan ukuran 2 x 2 serta perpindahan untuk setiap ekstraksi berupa 2 pixel"
      ],
      "metadata": {
        "id": "uGtsNaGNt6SV"
      },
      "execution_count": 8,
      "outputs": []
    },
    {
      "cell_type": "code",
      "source": [
        "cnn.add(tf.keras.layers.Flatten()) # Menambahkan layer Flatten pada model yang digunakan untuk pemrosesan dimensi input menjadi 1 dimensi"
      ],
      "metadata": {
        "id": "adGn5cbAuBY-"
      },
      "execution_count": 9,
      "outputs": []
    },
    {
      "cell_type": "code",
      "source": [
        "cnn.add(tf.keras.layers.Dense(units=128, activation='relu')) # Menambah layer Dense (Full Connceted) dengan 128 neuron dan fungsi aktivasi ReLU\n",
        ""
      ],
      "metadata": {
        "id": "uANnxUn5uFbe"
      },
      "execution_count": 10,
      "outputs": []
    },
    {
      "cell_type": "code",
      "source": [
        "cnn.add(tf.keras.layers.Dense(units=1, activation='sigmoid')) # # Menambah layer Dense (Full Connceted) dengan satu neuron yang menunukan true atau false (1 atau 0) saja dan fungsi aktivasi Sigmoid"
      ],
      "metadata": {
        "id": "eKHJsesMuJzi"
      },
      "execution_count": 11,
      "outputs": []
    },
    {
      "cell_type": "code",
      "source": [
        "cnn.compile(optimizer = 'adam', # Compile Model dengan optimizer ADAM\n",
        "            loss = 'binary_crossentropy', # Fungsi kerugian ini digunakan untuk klasifikasi binary\n",
        "            metrics = ['accuracy']) # Matrik akurasi untuk menyimpan akurasi dari kinerja model"
      ],
      "metadata": {
        "id": "ya4_i-H4uMdW"
      },
      "execution_count": 12,
      "outputs": []
    },
    {
      "cell_type": "code",
      "source": [
        "cnn.fit(x = training_set, validation_data = test_set, epochs = 25) # Melatih model dengan training_set dan test_set dengan epoch sebanyak 25"
      ],
      "metadata": {
        "id": "3vrZ1LQbykbF",
        "outputId": "3a689d52-fc00-46d5-c3a4-203c66ffefc0",
        "colab": {
          "base_uri": "https://localhost:8080/"
        }
      },
      "execution_count": null,
      "outputs": [
        {
          "output_type": "stream",
          "name": "stdout",
          "text": [
            "Epoch 1/25\n",
            "52/52 [==============================] - ETA: 0s - loss: 0.0178 - accuracy: 0.9805"
          ]
        }
      ]
    },
    {
      "cell_type": "code",
      "source": [
        "import numpy as np # Menyediakan berbagai fungsi untuk bekerja dengan array numerik\n",
        "from keras.preprocessing import image # Digunakan untuk memuat, mengubah ukuran, dan melakukan prapemrosesan gambar\n",
        "\n",
        "def predict_image(img_path):\n",
        "  test_image = image.load_img(img_path, target_size = (64, 64)) # memuat gambar dari file path dan mengubah ukurannya menjadi 64 x 64 piksel\n",
        "  test_image = image.img_to_array(test_image) # Mengkonversi citra menjadi array numerik\n",
        "  test_image = np.expand_dims(test_image, axis = 0) # Menambahkan dimensi baru ke array NumPy test_image.\n",
        "  result = cnn.predict(test_image) # Memprediksi hasil dengan model beserta argument test_image\n",
        "  training_set.class_indices # Mendapatkan dictionary yang berisi mapping dari kelas ke indeks kelas\n",
        "  if result[0][0] == 1: # Kondisi jika value result pertama berupa 1\n",
        "    prediction = 'dog' # predictions adalah dog\n",
        "  else:\n",
        "    prediction = 'cat' # predictions adalah cat\n",
        "\n",
        "  return prediction"
      ],
      "metadata": {
        "id": "1P6lBXciuWgW"
      },
      "execution_count": null,
      "outputs": []
    },
    {
      "cell_type": "code",
      "source": [
        "from google.colab.patches import cv2_imshow\n",
        "import cv2 as cv\n",
        "\n",
        "img_1_path = '/content/drive/MyDrive/Machine_Learning_2023/week_11/dataset/single_prediction/cat_or_dog_1.jpg'\n",
        "img_1 = cv.imread(img_1_path)\n",
        "prediction = predict_image(img_1_path)\n",
        "print(prediction)\n",
        "cv2_imshow(img_1)"
      ],
      "metadata": {
        "id": "1GpGQg8Yuac1"
      },
      "execution_count": null,
      "outputs": []
    },
    {
      "cell_type": "code",
      "source": [
        "img_2_path = '/content/drive/MyDrive/Machine_Learning_2023/week_11/dataset/single_prediction/cat_or_dog_2.jpg'\n",
        "img_2 = cv.imread(img_2_path)\n",
        "prediction = predict_image(img_2_path)\n",
        "print(prediction)\n",
        "cv2_imshow(img_2)"
      ],
      "metadata": {
        "id": "QUuSZDdxw0Rm"
      },
      "execution_count": null,
      "outputs": []
    }
  ],
  "metadata": {
    "language_info": {
      "name": "python"
    },
    "colab": {
      "provenance": []
    },
    "accelerator": "TPU",
    "kernelspec": {
      "name": "python3",
      "display_name": "Python 3"
    }
  },
  "nbformat": 4,
  "nbformat_minor": 0
}